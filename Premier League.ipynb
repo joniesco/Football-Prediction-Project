{
 "cells": [
  {
   "cell_type": "code",
   "execution_count": 156,
   "id": "c12cc320",
   "metadata": {},
   "outputs": [],
   "source": [
    "import numpy as np \n",
    "import pandas as pd \n",
    "import matplotlib.pyplot as plt "
   ]
  },
  {
   "cell_type": "code",
   "execution_count": 158,
   "id": "48919a51",
   "metadata": {},
   "outputs": [
    {
     "data": {
      "text/html": [
       "<div>\n",
       "<style scoped>\n",
       "    .dataframe tbody tr th:only-of-type {\n",
       "        vertical-align: middle;\n",
       "    }\n",
       "\n",
       "    .dataframe tbody tr th {\n",
       "        vertical-align: top;\n",
       "    }\n",
       "\n",
       "    .dataframe thead th {\n",
       "        text-align: right;\n",
       "    }\n",
       "</style>\n",
       "<table border=\"1\" class=\"dataframe\">\n",
       "  <thead>\n",
       "    <tr style=\"text-align: right;\">\n",
       "      <th></th>\n",
       "      <th>year</th>\n",
       "      <th>Home Team</th>\n",
       "      <th>Away Team</th>\n",
       "      <th>Home Team Goals</th>\n",
       "      <th>Away Team Goals</th>\n",
       "      <th>Winner</th>\n",
       "    </tr>\n",
       "  </thead>\n",
       "  <tbody>\n",
       "    <tr>\n",
       "      <th>0</th>\n",
       "      <td>1993</td>\n",
       "      <td>Arsenal</td>\n",
       "      <td>Coventry</td>\n",
       "      <td>0</td>\n",
       "      <td>3</td>\n",
       "      <td>1.0</td>\n",
       "    </tr>\n",
       "    <tr>\n",
       "      <th>1</th>\n",
       "      <td>1993</td>\n",
       "      <td>Aston Villa</td>\n",
       "      <td>QPR</td>\n",
       "      <td>4</td>\n",
       "      <td>1</td>\n",
       "      <td>0.0</td>\n",
       "    </tr>\n",
       "    <tr>\n",
       "      <th>2</th>\n",
       "      <td>1993</td>\n",
       "      <td>Chelsea</td>\n",
       "      <td>Blackburn</td>\n",
       "      <td>1</td>\n",
       "      <td>2</td>\n",
       "      <td>1.0</td>\n",
       "    </tr>\n",
       "    <tr>\n",
       "      <th>3</th>\n",
       "      <td>1993</td>\n",
       "      <td>Liverpool</td>\n",
       "      <td>Sheffield Weds</td>\n",
       "      <td>2</td>\n",
       "      <td>0</td>\n",
       "      <td>0.0</td>\n",
       "    </tr>\n",
       "    <tr>\n",
       "      <th>4</th>\n",
       "      <td>1993</td>\n",
       "      <td>Man City</td>\n",
       "      <td>Leeds</td>\n",
       "      <td>1</td>\n",
       "      <td>1</td>\n",
       "      <td>2.0</td>\n",
       "    </tr>\n",
       "  </tbody>\n",
       "</table>\n",
       "</div>"
      ],
      "text/plain": [
       "   year    Home Team       Away Team  Home Team Goals  Away Team Goals  Winner\n",
       "0  1993      Arsenal        Coventry                0                3     1.0\n",
       "1  1993  Aston Villa             QPR                4                1     0.0\n",
       "2  1993      Chelsea       Blackburn                1                2     1.0\n",
       "3  1993    Liverpool  Sheffield Weds                2                0     0.0\n",
       "4  1993     Man City           Leeds                1                1     2.0"
      ]
     },
     "execution_count": 158,
     "metadata": {},
     "output_type": "execute_result"
    }
   ],
   "source": [
    "premier_league = pd.read_csv(\"./datasets/Premier League.csv\")\n",
    "premier_league.loc[premier_league['Home Team Goals']>premier_league['Away Team Goals'], 'Winner'] = 0\n",
    "premier_league.loc[premier_league['Home Team Goals']<premier_league['Away Team Goals'], 'Winner'] = 1\n",
    "premier_league.loc[premier_league['Home Team Goals']==premier_league['Away Team Goals'], 'Winner'] = 2\n",
    "premier_league.head()"
   ]
  },
  {
   "cell_type": "markdown",
   "id": "c72eca51",
   "metadata": {},
   "source": [
    "# First prediction\n",
    "\n",
    "<img src='./pictures/prem.png'>\n",
    "     \n",
    "### Dataset: Premier League 2020 with final scores\n",
    "### Trainning: 30 firsts rounds\n",
    "### Testing: 8 final rounds\n",
    "\n",
    "#### We want to check if given final results all the classifiers are \"clever\" enough to predict the winner "
   ]
  },
  {
   "cell_type": "code",
   "execution_count": 159,
   "id": "e998ba4e",
   "metadata": {},
   "outputs": [
    {
     "data": {
      "text/html": [
       "<div>\n",
       "<style scoped>\n",
       "    .dataframe tbody tr th:only-of-type {\n",
       "        vertical-align: middle;\n",
       "    }\n",
       "\n",
       "    .dataframe tbody tr th {\n",
       "        vertical-align: top;\n",
       "    }\n",
       "\n",
       "    .dataframe thead th {\n",
       "        text-align: right;\n",
       "    }\n",
       "</style>\n",
       "<table border=\"1\" class=\"dataframe\">\n",
       "  <thead>\n",
       "    <tr style=\"text-align: right;\">\n",
       "      <th></th>\n",
       "      <th>year</th>\n",
       "      <th>Home Team</th>\n",
       "      <th>Away Team</th>\n",
       "      <th>Home Team Goals</th>\n",
       "      <th>Away Team Goals</th>\n",
       "      <th>Winner</th>\n",
       "    </tr>\n",
       "  </thead>\n",
       "  <tbody>\n",
       "    <tr>\n",
       "      <th>10424</th>\n",
       "      <td>2020</td>\n",
       "      <td>7</td>\n",
       "      <td>0</td>\n",
       "      <td>0</td>\n",
       "      <td>3</td>\n",
       "      <td>1.0</td>\n",
       "    </tr>\n",
       "    <tr>\n",
       "      <th>10425</th>\n",
       "      <td>2020</td>\n",
       "      <td>5</td>\n",
       "      <td>15</td>\n",
       "      <td>1</td>\n",
       "      <td>0</td>\n",
       "      <td>0.0</td>\n",
       "    </tr>\n",
       "    <tr>\n",
       "      <th>10426</th>\n",
       "      <td>2020</td>\n",
       "      <td>10</td>\n",
       "      <td>8</td>\n",
       "      <td>4</td>\n",
       "      <td>3</td>\n",
       "      <td>0.0</td>\n",
       "    </tr>\n",
       "    <tr>\n",
       "      <th>10427</th>\n",
       "      <td>2020</td>\n",
       "      <td>18</td>\n",
       "      <td>13</td>\n",
       "      <td>0</td>\n",
       "      <td>2</td>\n",
       "      <td>1.0</td>\n",
       "    </tr>\n",
       "    <tr>\n",
       "      <th>10428</th>\n",
       "      <td>2020</td>\n",
       "      <td>17</td>\n",
       "      <td>9</td>\n",
       "      <td>0</td>\n",
       "      <td>3</td>\n",
       "      <td>1.0</td>\n",
       "    </tr>\n",
       "    <tr>\n",
       "      <th>...</th>\n",
       "      <td>...</td>\n",
       "      <td>...</td>\n",
       "      <td>...</td>\n",
       "      <td>...</td>\n",
       "      <td>...</td>\n",
       "      <td>...</td>\n",
       "    </tr>\n",
       "    <tr>\n",
       "      <th>10799</th>\n",
       "      <td>2020</td>\n",
       "      <td>10</td>\n",
       "      <td>5</td>\n",
       "      <td>2</td>\n",
       "      <td>0</td>\n",
       "      <td>0.0</td>\n",
       "    </tr>\n",
       "    <tr>\n",
       "      <th>10800</th>\n",
       "      <td>2020</td>\n",
       "      <td>11</td>\n",
       "      <td>6</td>\n",
       "      <td>5</td>\n",
       "      <td>0</td>\n",
       "      <td>0.0</td>\n",
       "    </tr>\n",
       "    <tr>\n",
       "      <th>10801</th>\n",
       "      <td>2020</td>\n",
       "      <td>14</td>\n",
       "      <td>3</td>\n",
       "      <td>1</td>\n",
       "      <td>0</td>\n",
       "      <td>0.0</td>\n",
       "    </tr>\n",
       "    <tr>\n",
       "      <th>10802</th>\n",
       "      <td>2020</td>\n",
       "      <td>18</td>\n",
       "      <td>15</td>\n",
       "      <td>3</td>\n",
       "      <td>0</td>\n",
       "      <td>0.0</td>\n",
       "    </tr>\n",
       "    <tr>\n",
       "      <th>10803</th>\n",
       "      <td>2020</td>\n",
       "      <td>19</td>\n",
       "      <td>12</td>\n",
       "      <td>1</td>\n",
       "      <td>2</td>\n",
       "      <td>1.0</td>\n",
       "    </tr>\n",
       "  </tbody>\n",
       "</table>\n",
       "<p>380 rows × 6 columns</p>\n",
       "</div>"
      ],
      "text/plain": [
       "       year  Home Team  Away Team  Home Team Goals  Away Team Goals  Winner\n",
       "10424  2020          7          0                0                3     1.0\n",
       "10425  2020          5         15                1                0     0.0\n",
       "10426  2020         10          8                4                3     0.0\n",
       "10427  2020         18         13                0                2     1.0\n",
       "10428  2020         17          9                0                3     1.0\n",
       "...     ...        ...        ...              ...              ...     ...\n",
       "10799  2020         10          5                2                0     0.0\n",
       "10800  2020         11          6                5                0     0.0\n",
       "10801  2020         14          3                1                0     0.0\n",
       "10802  2020         18         15                3                0     0.0\n",
       "10803  2020         19         12                1                2     1.0\n",
       "\n",
       "[380 rows x 6 columns]"
      ]
     },
     "execution_count": 159,
     "metadata": {},
     "output_type": "execute_result"
    }
   ],
   "source": [
    "premierleague2020 = premier_league[premier_league['year'] == 2020]\n",
    "\n",
    "teams = premierleague2020['Home Team'].unique()\n",
    "teams.sort()\n",
    "\n",
    "mapping = {team: index for index ,team in enumerate(teams) }\n",
    "premierleague2020 = premierleague2020.replace({'Home Team': mapping, 'Away Team': mapping})\n",
    "premierleague2020"
   ]
  },
  {
   "cell_type": "markdown",
   "id": "b8ae796f",
   "metadata": {},
   "source": [
    "#### We expect from the classifiers to predict with very high accuracy (since the final result is known)"
   ]
  },
  {
   "cell_type": "code",
   "execution_count": 160,
   "id": "36b4fbe2",
   "metadata": {},
   "outputs": [],
   "source": [
    "from sklearn.model_selection import train_test_split\n",
    "\n",
    "X, y = premierleague2020.iloc[:,1:-1], premierleague2020.iloc[:,-1]\n",
    "\n",
    "X_train, X_test, y_train, y_test = train_test_split(X, y, train_size=300 , shuffle=False)"
   ]
  },
  {
   "cell_type": "markdown",
   "id": "c857fdb0",
   "metadata": {},
   "source": [
    "### Logistic Regression"
   ]
  },
  {
   "cell_type": "code",
   "execution_count": 161,
   "id": "c0cdd86b",
   "metadata": {},
   "outputs": [
    {
     "name": "stdout",
     "output_type": "stream",
     "text": [
      "Logistic Regression Accuracy:  1.0 \n",
      "\n",
      "Logistic Regression Matrix:\n",
      "[[32  0  0]\n",
      " [ 0 35  0]\n",
      " [ 0  0 13]] \n",
      "\n",
      "Classification Report:\n",
      "              precision    recall  f1-score   support\n",
      "\n",
      "         0.0       1.00      1.00      1.00        32\n",
      "         1.0       1.00      1.00      1.00        35\n",
      "         2.0       1.00      1.00      1.00        13\n",
      "\n",
      "    accuracy                           1.00        80\n",
      "   macro avg       1.00      1.00      1.00        80\n",
      "weighted avg       1.00      1.00      1.00        80\n",
      "\n"
     ]
    }
   ],
   "source": [
    "from sklearn.linear_model import LogisticRegression\n",
    "from sklearn.metrics import classification_report,confusion_matrix\n",
    "\n",
    "lgr = LogisticRegression()\n",
    "lgr.fit(X_train,y_train)\n",
    "\n",
    "print('Logistic Regression Accuracy: ', lgr.score(X_test,y_test),\"\\n\")\n",
    "\n",
    "y_pred = lgr.predict(X_test)\n",
    "\n",
    "print(\"Logistic Regression Matrix:\")\n",
    "print( confusion_matrix(y_test,y_pred),\"\\n\")\n",
    "\n",
    "print(\"Classification Report:\")\n",
    "print(classification_report(y_test, y_pred))\n"
   ]
  },
  {
   "cell_type": "markdown",
   "id": "75ef187a",
   "metadata": {},
   "source": [
    "We are not supprised by the result as the prediction can be done with a simple mathematical calculation:\n",
    "(\"Home Team Goals\" - \"Away Team Goals\").\n",
    "\n",
    "Then the logistic classifier can decide whether the winner is (using sigmoid function) the home team or the away team."
   ]
  },
  {
   "cell_type": "markdown",
   "id": "c2e3eb19",
   "metadata": {},
   "source": [
    "### Decision Trees"
   ]
  },
  {
   "cell_type": "code",
   "execution_count": 162,
   "id": "b79bbe2a",
   "metadata": {},
   "outputs": [
    {
     "name": "stdout",
     "output_type": "stream",
     "text": [
      "Decision Tree Accuracy :  1.0 \n",
      "\n",
      "Decision Tree Matrix:\n",
      "[[32  0  0]\n",
      " [ 0 35  0]\n",
      " [ 0  0 13]] \n",
      "\n",
      "Classification Report:\n",
      "              precision    recall  f1-score   support\n",
      "\n",
      "         0.0       1.00      1.00      1.00        32\n",
      "         1.0       1.00      1.00      1.00        35\n",
      "         2.0       1.00      1.00      1.00        13\n",
      "\n",
      "    accuracy                           1.00        80\n",
      "   macro avg       1.00      1.00      1.00        80\n",
      "weighted avg       1.00      1.00      1.00        80\n",
      "\n"
     ]
    }
   ],
   "source": [
    "from sklearn.tree import DecisionTreeClassifier, plot_tree\n",
    "\n",
    "dt=DecisionTreeClassifier()\n",
    "dt.fit(X_train,y_train)\n",
    "print('Decision Tree Accuracy : ', dt.score(X_test,y_test),\"\\n\")\n",
    "\n",
    "y_pred = dt.predict(X_test)\n",
    "\n",
    "print(\"Decision Tree Matrix:\")\n",
    "print(confusion_matrix(y_test,y_pred),\"\\n\")\n",
    "print(\"Classification Report:\")\n",
    "print(classification_report(y_test, y_pred))"
   ]
  },
  {
   "cell_type": "code",
   "execution_count": 163,
   "id": "6a55ea34",
   "metadata": {},
   "outputs": [
    {
     "data": {
      "image/png": "[encoded data removed]",
      "text/plain": [
       "<Figure size 1296x1296 with 1 Axes>"
      ]
     },
     "metadata": {
      "needs_background": "light"
     },
     "output_type": "display_data"
    }
   ],
   "source": [
    "plt.figure(figsize=(18,18))  # set plot size (denoted in inches)\n",
    "plot_tree(dt, feature_names=X.columns, class_names = ['0','1', '2'], fontsize=10)\n",
    "plt.show()"
   ]
  },
  {
   "cell_type": "code",
   "execution_count": 164,
   "id": "4e2b4ae1",
   "metadata": {},
   "outputs": [
    {
     "data": {
      "text/plain": [
       "Home Team          33\n",
       "Away Team          33\n",
       "Home Team Goals    33\n",
       "Away Team Goals    33\n",
       "dtype: int64"
      ]
     },
     "execution_count": 164,
     "metadata": {},
     "output_type": "execute_result"
    }
   ],
   "source": [
    "X_train[(X_train['Home Team Goals'] == 1 ) & (X_train['Away Team Goals'] == 1 )].count()"
   ]
  },
  {
   "cell_type": "markdown",
   "id": "1c9709dd",
   "metadata": {},
   "source": [
    "### AdaBoost\n",
    "\n",
    "using Decision Tree of depth 1"
   ]
  },
  {
   "cell_type": "code",
   "execution_count": 165,
   "id": "2b587b30",
   "metadata": {},
   "outputs": [
    {
     "name": "stdout",
     "output_type": "stream",
     "text": [
      "AdaBoost Accuracy :  0.7375 \n",
      "\n",
      "AdaBoost Matrix:\n",
      "[[17  0 15]\n",
      " [ 0 29  6]\n",
      " [ 0  0 13]] \n",
      "\n",
      "Classification Report:\n",
      "              precision    recall  f1-score   support\n",
      "\n",
      "         0.0       1.00      0.53      0.69        32\n",
      "         1.0       1.00      0.83      0.91        35\n",
      "         2.0       0.38      1.00      0.55        13\n",
      "\n",
      "    accuracy                           0.74        80\n",
      "   macro avg       0.79      0.79      0.72        80\n",
      "weighted avg       0.90      0.74      0.76        80\n",
      "\n"
     ]
    }
   ],
   "source": [
    "from sklearn.ensemble import AdaBoostClassifier\n",
    "\n",
    "adb= AdaBoostClassifier(n_estimators=1000)\n",
    "adb.fit(X_train,y_train)\n",
    "print('AdaBoost Accuracy : ', adb.score(X_test,y_test),\"\\n\")\n",
    "\n",
    "y_pred = adb.predict(X_test)\n",
    "\n",
    "print(\"AdaBoost Matrix:\")\n",
    "print(confusion_matrix(y_test,y_pred),\"\\n\")\n",
    "print(\"Classification Report:\")\n",
    "print(classification_report(y_test, y_pred))"
   ]
  },
  {
   "cell_type": "markdown",
   "id": "e18e0d40",
   "metadata": {},
   "source": [
    "The above AdaBoost classifer use a Decision Tree of depth 1 as weak learner (base_estimator), and as we can see from the Decision Tree classification above, 1 question is not enough...  \n",
    "\n",
    "Let's try with a better \"weak\" classifier."
   ]
  },
  {
   "cell_type": "markdown",
   "id": "c0ba0647",
   "metadata": {},
   "source": [
    "### AdaBoost\n",
    "\n",
    "using Decision Trees of depth 2"
   ]
  },
  {
   "cell_type": "code",
   "execution_count": 166,
   "id": "5c08d18f",
   "metadata": {},
   "outputs": [
    {
     "name": "stdout",
     "output_type": "stream",
     "text": [
      "AdaBoost Accuracy :  1.0 \n",
      "\n",
      "AdaBoost Matrix:\n",
      "[[32  0  0]\n",
      " [ 0 35  0]\n",
      " [ 0  0 13]] \n",
      "\n",
      "Classification Report:\n",
      "              precision    recall  f1-score   support\n",
      "\n",
      "         0.0       1.00      1.00      1.00        32\n",
      "         1.0       1.00      1.00      1.00        35\n",
      "         2.0       1.00      1.00      1.00        13\n",
      "\n",
      "    accuracy                           1.00        80\n",
      "   macro avg       1.00      1.00      1.00        80\n",
      "weighted avg       1.00      1.00      1.00        80\n",
      "\n"
     ]
    }
   ],
   "source": [
    "adaboost = AdaBoostClassifier(base_estimator=DecisionTreeClassifier(max_depth=2) ,n_estimators=50)\n",
    "adaboost.fit(X_train,y_train)\n",
    "print('AdaBoost Accuracy : ', adaboost.score(X_test,y_test),\"\\n\")\n",
    "\n",
    "y_pred = adaboost.predict(X_test)\n",
    "\n",
    "print(\"AdaBoost Matrix:\")\n",
    "print(confusion_matrix(y_test,y_pred),\"\\n\")\n",
    "print(\"Classification Report:\")\n",
    "print(classification_report(y_test, y_pred))"
   ]
  },
  {
   "cell_type": "markdown",
   "id": "04cf0b5f",
   "metadata": {},
   "source": [
    "After \"boosting\" the model we got perfect results.  "
   ]
  },
  {
   "cell_type": "markdown",
   "id": "141852c2",
   "metadata": {},
   "source": [
    "### Naive Bayes"
   ]
  },
  {
   "cell_type": "code",
   "execution_count": 167,
   "id": "6fb79c34",
   "metadata": {},
   "outputs": [
    {
     "name": "stdout",
     "output_type": "stream",
     "text": [
      "Naive Bayes Accuracy :  0.925 \n",
      "\n",
      "Naive Bayes Matrix:\n",
      "[[29  0  3]\n",
      " [ 0 32  3]\n",
      " [ 0  0 13]] \n",
      "\n",
      "Classification Report:\n",
      "              precision    recall  f1-score   support\n",
      "\n",
      "         0.0       1.00      0.91      0.95        32\n",
      "         1.0       1.00      0.91      0.96        35\n",
      "         2.0       0.68      1.00      0.81        13\n",
      "\n",
      "    accuracy                           0.93        80\n",
      "   macro avg       0.89      0.94      0.91        80\n",
      "weighted avg       0.95      0.93      0.93        80\n",
      "\n"
     ]
    }
   ],
   "source": [
    "from sklearn.naive_bayes import GaussianNB\n",
    "\n",
    "nb = GaussianNB()\n",
    "nb.fit(X_train,y_train)\n",
    "print('Naive Bayes Accuracy : ', nb.score(X_test,y_test),\"\\n\")\n",
    "\n",
    "y_pred = nb.predict(X_test)\n",
    "\n",
    "print(\"Naive Bayes Matrix:\")\n",
    "print(confusion_matrix(y_test,y_pred),\"\\n\")\n",
    "print(\"Classification Report:\")\n",
    "print(classification_report(y_test, y_pred))"
   ]
  },
  {
   "cell_type": "markdown",
   "id": "4807f284",
   "metadata": {},
   "source": [
    "Works ok but not perfectly, since Naive Bayes classifier assumes that the effect of a particular feature in a class is independent of other features, which is not our case...\n",
    "\n",
    "The winner class depends on both \"Home team goals\" and \"Away team goals\""
   ]
  },
  {
   "cell_type": "code",
   "execution_count": null,
   "id": "5e9bfb3a",
   "metadata": {},
   "outputs": [],
   "source": []
  }
 ],
 "metadata": {
  "kernelspec": {
   "display_name": "Python 3 (ipykernel)",
   "language": "python",
   "name": "python3"
  },
  "language_info": {
   "codemirror_mode": {
    "name": "ipython",
    "version": 3
   },
   "file_extension": ".py",
   "mimetype": "text/x-python",
   "name": "python",
   "nbconvert_exporter": "python",
   "pygments_lexer": "ipython3",
   "version": "3.9.7"
  }
 },
 "nbformat": 4,
 "nbformat_minor": 5
}
